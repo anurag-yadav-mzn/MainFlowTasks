{
  "nbformat": 4,
  "nbformat_minor": 0,
  "metadata": {
    "colab": {
      "provenance": []
    },
    "kernelspec": {
      "name": "python3",
      "display_name": "Python 3"
    },
    "language_info": {
      "name": "python"
    }
  },
  "cells": [
    {
      "cell_type": "code",
      "execution_count": 11,
      "metadata": {
        "id": "AB7LtF6GVNCf"
      },
      "outputs": [],
      "source": [
        "my_lst = []\n",
        "my_set = set()"
      ]
    },
    {
      "cell_type": "code",
      "source": [
        "def add_list(lst, val):\n",
        "    lst.append(val)"
      ],
      "metadata": {
        "id": "1eoIFAQvVgOz"
      },
      "execution_count": 12,
      "outputs": []
    },
    {
      "cell_type": "code",
      "source": [
        "def remove_list(lst, val):\n",
        "    lst.remove(val)"
      ],
      "metadata": {
        "id": "ovMBLgt7VnRV"
      },
      "execution_count": 13,
      "outputs": []
    },
    {
      "cell_type": "code",
      "source": [
        "def update_list(lst, index, val):\n",
        "    lst[index] = val"
      ],
      "metadata": {
        "id": "SZ3b5hlaVz25"
      },
      "execution_count": 14,
      "outputs": []
    },
    {
      "cell_type": "code",
      "source": [
        "# add element in the list\n",
        "choice = 'y'\n",
        "while (choice == 'y'):\n",
        "  var = input('Enter element:')\n",
        "  add_list(my_lst, var)\n",
        "  choice = input('Enter choice y/n:')\n",
        "  if (choice == 'n'):\n",
        "    break\n",
        "\n",
        "print(my_lst)"
      ],
      "metadata": {
        "colab": {
          "base_uri": "https://localhost:8080/"
        },
        "id": "lwQFt2zFXdln",
        "outputId": "4d792a7f-1106-4ecb-8ad5-236ac83ffd48"
      },
      "execution_count": 15,
      "outputs": [
        {
          "output_type": "stream",
          "name": "stdout",
          "text": [
            "Enter element:1\n",
            "Enter choice y/n:y\n",
            "Enter element:7\n",
            "Enter choice y/n:y\n",
            "Enter element:2\n",
            "Enter choice y/n:y\n",
            "Enter element:8\n",
            "Enter choice y/n:n\n",
            "['1', '7', '2', '8']\n"
          ]
        }
      ]
    },
    {
      "cell_type": "code",
      "source": [
        "# remove element in the list\n",
        "var = input('Enter element to be removed:')\n",
        "remove_list(my_lst, var)\n",
        "print(my_lst)"
      ],
      "metadata": {
        "colab": {
          "base_uri": "https://localhost:8080/"
        },
        "id": "iGaTPn37c-lf",
        "outputId": "829c0ed1-da91-4f44-afd9-d94da5aaf215"
      },
      "execution_count": 16,
      "outputs": [
        {
          "output_type": "stream",
          "name": "stdout",
          "text": [
            "Enter element to be removed:8\n",
            "['1', '7', '2']\n"
          ]
        }
      ]
    },
    {
      "cell_type": "code",
      "source": [
        "# update element in the list\n",
        "var = input('Enter new element:')\n",
        "index = int(input('Enter index:'))\n",
        "update_list(my_lst, index, var)\n",
        "print(my_lst)"
      ],
      "metadata": {
        "colab": {
          "base_uri": "https://localhost:8080/"
        },
        "id": "GdYzx3Tad_Go",
        "outputId": "fe4157da-5edb-45c3-98fe-cbdea108afe2"
      },
      "execution_count": 17,
      "outputs": [
        {
          "output_type": "stream",
          "name": "stdout",
          "text": [
            "Enter new element:3\n",
            "Enter index:0\n",
            "['3', '7', '2']\n"
          ]
        }
      ]
    },
    {
      "cell_type": "code",
      "source": [
        "def add_set(st, val):\n",
        "    st.add(val)"
      ],
      "metadata": {
        "id": "x6sqSZW2fhvg"
      },
      "execution_count": 18,
      "outputs": []
    },
    {
      "cell_type": "code",
      "source": [
        "def remove_set(st, val):\n",
        "    st.remove(val)"
      ],
      "metadata": {
        "id": "51jhWHisfl0_"
      },
      "execution_count": 19,
      "outputs": []
    },
    {
      "cell_type": "code",
      "source": [
        "def update_set(st, index, val):\n",
        "    st.discard(index)\n",
        "    st.add(val)"
      ],
      "metadata": {
        "id": "zPmtN3KLj6G4"
      },
      "execution_count": 20,
      "outputs": []
    },
    {
      "cell_type": "code",
      "source": [
        "# add element in the set\n",
        "choice = 'y'\n",
        "while (choice == 'y'):\n",
        "  var = input('Enter element:')\n",
        "  add_set(my_set, var)\n",
        "  choice = input('Enter choice y/n:')\n",
        "  if (choice == 'n'):\n",
        "    break\n",
        "\n",
        "print(my_set)"
      ],
      "metadata": {
        "colab": {
          "base_uri": "https://localhost:8080/"
        },
        "id": "iQI-o48mikAs",
        "outputId": "b53ae557-b637-4cfd-9617-a09ad932e123"
      },
      "execution_count": 22,
      "outputs": [
        {
          "output_type": "stream",
          "name": "stdout",
          "text": [
            "Enter element:2\n",
            "Enter choice y/n:y\n",
            "Enter element:4\n",
            "Enter choice y/n:y\n",
            "Enter element:6\n",
            "Enter choice y/n:y\n",
            "Enter element:8\n",
            "Enter choice y/n:n\n",
            "{'4', '8', '2', '6'}\n"
          ]
        }
      ]
    },
    {
      "cell_type": "code",
      "source": [
        "# remove element in the set\n",
        "var = input('Enter element to be removed:')\n",
        "remove_set(my_set, var)\n",
        "print(my_set)"
      ],
      "metadata": {
        "colab": {
          "base_uri": "https://localhost:8080/"
        },
        "id": "UCiHMqDEjiBF",
        "outputId": "2fdb30b6-d596-4616-f41a-e3b1ead8e8c5"
      },
      "execution_count": 23,
      "outputs": [
        {
          "output_type": "stream",
          "name": "stdout",
          "text": [
            "Enter element to be removed:8\n",
            "{'4', '2', '6'}\n"
          ]
        }
      ]
    },
    {
      "cell_type": "code",
      "source": [
        "# update element in the set\n",
        "var = input('Enter new element:')\n",
        "index = int(input('Enter index:'))\n",
        "update_set(my_set, index, var)\n",
        "print(my_set)"
      ],
      "metadata": {
        "colab": {
          "base_uri": "https://localhost:8080/"
        },
        "id": "E6oUMnZ_kGie",
        "outputId": "0a919377-ea70-4e36-bd5a-ecf3e7a47929"
      },
      "execution_count": 24,
      "outputs": [
        {
          "output_type": "stream",
          "name": "stdout",
          "text": [
            "Enter new element:1\n",
            "Enter index:0\n",
            "{'2', '6', '1', '4'}\n"
          ]
        }
      ]
    },
    {
      "cell_type": "code",
      "source": [
        "# Create dictionary\n",
        "my_dict = {'name' : 'Anurag', 'age' : 25, 'city' : 'Delhi'}\n",
        "\n",
        "# add new element in dictionary\n",
        "my_dict['country'] = 'India'\n",
        "\n",
        "# remove element from list\n",
        "my_dict.pop('age')\n",
        "\n",
        "# update element\n",
        "my_dict['name'] = 'Anurag Yadav'\n",
        "\n",
        "# print dictionary\n",
        "print(my_dict)"
      ],
      "metadata": {
        "colab": {
          "base_uri": "https://localhost:8080/"
        },
        "id": "Rk45YQmXQwOJ",
        "outputId": "fce2bf7b-cbc0-414c-bed0-d19efc4ec991"
      },
      "execution_count": 25,
      "outputs": [
        {
          "output_type": "stream",
          "name": "stdout",
          "text": [
            "{'name': 'Anurag Yadav', 'city': 'Delhi', 'country': 'India'}\n"
          ]
        }
      ]
    },
    {
      "cell_type": "code",
      "source": [],
      "metadata": {
        "id": "sR0cZAcORTHs"
      },
      "execution_count": null,
      "outputs": []
    }
  ]
}